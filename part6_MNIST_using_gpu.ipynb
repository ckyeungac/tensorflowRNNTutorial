{
 "cells": [
  {
   "cell_type": "code",
   "execution_count": 1,
   "metadata": {
    "collapsed": true
   },
   "outputs": [],
   "source": [
    "import tensorflow as tf\n",
    "import numpy as np\n",
    "from tensorflow.examples.tutorials.mnist import input_data"
   ]
  },
  {
   "cell_type": "code",
   "execution_count": 2,
   "metadata": {
    "collapsed": false
   },
   "outputs": [
    {
     "name": "stdout",
     "output_type": "stream",
     "text": [
      "Extracting data/train-images-idx3-ubyte.gz\n",
      "Extracting data/train-labels-idx1-ubyte.gz\n",
      "Extracting data/t10k-images-idx3-ubyte.gz\n",
      "Extracting data/t10k-labels-idx1-ubyte.gz\n"
     ]
    }
   ],
   "source": [
    "mnist = input_data.read_data_sets('data', one_hot=True)\n",
    "\n",
    "# hyperparameters\n",
    "learning_rate = 1e-3\n",
    "training_iters = 100000\n",
    "batch_size = 128\n",
    "\n",
    "n_inputs = 28 # MNIST data input (28, 28<-)\n",
    "n_steps = 28  # MNIST data input (28<-, 28), equivalent to truncated_backprop_length\n",
    "n_hidden_units = 128 # neurons in hidden layer, equivalent to state_size\n",
    "n_classes = 10 # MNIST classes (0-9 digits)"
   ]
  },
  {
   "cell_type": "code",
   "execution_count": 3,
   "metadata": {
    "collapsed": false
   },
   "outputs": [],
   "source": [
    "x = tf.placeholder(tf.float32, [None, n_steps, n_inputs])\n",
    "y = tf.placeholder(tf.float32, [None, n_classes])\n",
    "\n",
    "weights = {\n",
    "    'in': tf.Variable(tf.random_normal([n_inputs, n_hidden_units])),\n",
    "    'out': tf.Variable(tf.random_normal([n_hidden_units, n_classes]))\n",
    "}\n",
    "\n",
    "biases = {\n",
    "    'in': tf.Variable(tf.constant(0.1, shape=[n_hidden_units,])),\n",
    "    'out': tf.Variable(tf.constant(0.1, shape=[n_classes,]))\n",
    "}"
   ]
  },
  {
   "cell_type": "code",
   "execution_count": 4,
   "metadata": {
    "collapsed": true
   },
   "outputs": [],
   "source": [
    "def RNN(X, weights, biases):\n",
    "    # hidden layer from input to cell\n",
    "    # X is in shape (128, 28, 28) and it is reshaped into (128*28, 28)\n",
    "    # reshape is needed because the matmul is applied on the 2nd axis of X only.\n",
    "    X = tf.reshape(X, shape=[-1, n_inputs])\n",
    "    X_in = tf.matmul(X, weights['in']) + biases['in']\n",
    "    \n",
    "    # It is reshaped back to the original\n",
    "    X_in = tf.reshape(X_in, \n",
    "                      shape=[-1, n_steps, n_hidden_units])\n",
    "    \n",
    "    # cell\n",
    "    # lstm cell is consisted of (c_state, h_state)\n",
    "    lstm_cell = tf.contrib.rnn.BasicLSTMCell(num_units=n_hidden_units, \n",
    "                                             forget_bias=1.0, \n",
    "                                             state_is_tuple=True)\n",
    "    \n",
    "    _init_state = lstm_cell.zero_state(batch_size, dtype=tf.float32)\n",
    "    \n",
    "    states_series, current_state = tf.nn.dynamic_rnn(lstm_cell,\n",
    "                                                    X_in,\n",
    "                                                    initial_state=_init_state,\n",
    "                                                    time_major=False)\n",
    "    \n",
    "    # hidden layer from cell to y\n",
    "    # results = tf.matmul(current_state[1], weights['out']) + biases['out']\n",
    "    \n",
    "    # or \n",
    "    # unstack along the n_steps to a list of [(batch_size, n_hidden_units)]\n",
    "    outputs = tf.unstack(states_series, axis=1)\n",
    "    results = tf.matmul(outputs[-1], weights['out']) + biases['out']\n",
    "\n",
    "    return results"
   ]
  },
  {
   "cell_type": "code",
   "execution_count": 5,
   "metadata": {
    "collapsed": false
   },
   "outputs": [],
   "source": [
    "logits = RNN(x, weights, biases)\n",
    "labels = tf.reshape(y, [-1, n_classes])\n",
    "\n",
    "entropy = tf.nn.softmax_cross_entropy_with_logits(logits=logits, labels=labels)\n",
    "loss = tf.reduce_mean(entropy)\n",
    "\n",
    "train_op = tf.train.AdagradOptimizer(0.3).minimize(loss)"
   ]
  },
  {
   "cell_type": "code",
   "execution_count": 6,
   "metadata": {
    "collapsed": true
   },
   "outputs": [],
   "source": [
    "correct_pred = tf.equal(tf.argmax(logits, 1), tf.argmax(y, 1))\n",
    "accuracy = tf.reduce_mean(tf.cast(correct_pred, tf.float32))"
   ]
  },
  {
   "cell_type": "code",
   "execution_count": 7,
   "metadata": {
    "collapsed": false
   },
   "outputs": [
    {
     "name": "stdout",
     "output_type": "stream",
     "text": [
      "0.203125\n",
      "0.304688\n",
      "0.296875\n",
      "0.476562\n",
      "0.59375\n",
      "0.609375\n",
      "0.703125\n",
      "0.773438\n",
      "0.71875\n",
      "0.625\n",
      "0.78125\n",
      "0.75\n",
      "0.859375\n",
      "0.84375\n",
      "0.835938\n",
      "0.84375\n",
      "0.914062\n",
      "0.796875\n",
      "0.898438\n",
      "0.890625\n",
      "0.90625\n",
      "0.882812\n",
      "0.945312\n",
      "0.875\n",
      "0.804688\n",
      "0.867188\n",
      "0.945312\n",
      "0.9375\n",
      "0.867188\n",
      "0.953125\n",
      "0.9375\n",
      "0.929688\n",
      "0.953125\n",
      "0.921875\n",
      "0.867188\n",
      "0.945312\n",
      "0.945312\n",
      "0.90625\n",
      "0.914062\n",
      "0.953125\n"
     ]
    }
   ],
   "source": [
    "config = tf.ConfigProto()\n",
    "config.gpu_options.allow_growth = True\n",
    "\n",
    "with  tf.Session(config=config) as sess:\n",
    "    init = tf.global_variables_initializer()\n",
    "    sess.run(init)\n",
    "    step = 0\n",
    "    while step * batch_size < training_iters:\n",
    "        batch_xs, batch_ys = mnist.train.next_batch(batch_size)\n",
    "        batch_xs = batch_xs.reshape([batch_size, n_steps, n_inputs])\n",
    "        sess.run([train_op], feed_dict={\n",
    "            x: batch_xs,\n",
    "            y: batch_ys,\n",
    "        })\n",
    "        if step % 20 == 0:\n",
    "            print(sess.run(accuracy, feed_dict={\n",
    "            x: batch_xs,\n",
    "            y: batch_ys,\n",
    "            }))\n",
    "        step += 1\n",
    "    "
   ]
  }
 ],
 "metadata": {
  "kernelspec": {
   "display_name": "Python 3",
   "language": "python",
   "name": "python3"
  },
  "language_info": {
   "codemirror_mode": {
    "name": "ipython",
    "version": 3
   },
   "file_extension": ".py",
   "mimetype": "text/x-python",
   "name": "python",
   "nbconvert_exporter": "python",
   "pygments_lexer": "ipython3",
   "version": "3.5.2"
  }
 },
 "nbformat": 4,
 "nbformat_minor": 0
}
